{
  "nbformat": 4,
  "nbformat_minor": 0,
  "metadata": {
    "colab": {
      "name": "Classificador_agressivo_passivo.ipynb",
      "provenance": [],
      "collapsed_sections": [],
      "authorship_tag": "ABX9TyMPLHWIEQypD4noWI3A4wEs",
      "include_colab_link": true
    },
    "kernelspec": {
      "name": "python3",
      "display_name": "Python 3"
    },
    "language_info": {
      "name": "python"
    }
  },
  "cells": [
    {
      "cell_type": "markdown",
      "metadata": {
        "id": "view-in-github",
        "colab_type": "text"
      },
      "source": [
        "<a href=\"https://colab.research.google.com/github/luiz-star/Classificador_Agressivo_Passivo/blob/main/Classificador_agressivo_passivo.ipynb\" target=\"_parent\"><img src=\"https://colab.research.google.com/assets/colab-badge.svg\" alt=\"Open In Colab\"/></a>"
      ]
    },
    {
      "cell_type": "markdown",
      "metadata": {
        "id": "WQMcHTerD8Xt"
      },
      "source": [
        "## Classificador agressivo passivo em aprendizado de máquina\n",
        "\n",
        "\n",
        "Passive Aggressive Classifier é um algoritmo de classificação que se enquadra na categoria de aprendizado online em aprendizado de máquina"
      ]
    },
    {
      "cell_type": "code",
      "metadata": {
        "id": "Zo2yOr7_AorZ"
      },
      "source": [
        "# Importando as Bibliotecas\n",
        "\n",
        "import numpy as np\n",
        "import pandas as pd\n",
        "import matplotlib.pyplot as plt\n",
        "import seaborn as sns\n",
        "sns.set()\n",
        "\n"
      ],
      "execution_count": null,
      "outputs": []
    },
    {
      "cell_type": "code",
      "metadata": {
        "colab": {
          "base_uri": "https://localhost:8080/"
        },
        "id": "q_jTqNcZBrJ1",
        "outputId": "08c377e9-a8aa-40a3-e92d-c8312b6c6df8"
      },
      "source": [
        "#Carregando os Dados e verificando as 5 primeiras linhas\n",
        "\n",
        "data = pd.read_csv('fake_or_real_news.csv')\n",
        "print(data.head())"
      ],
      "execution_count": null,
      "outputs": [
        {
          "output_type": "stream",
          "text": [
            "   Unnamed: 0  ... label\n",
            "0        8476  ...  FAKE\n",
            "1       10294  ...  FAKE\n",
            "2        3608  ...  REAL\n",
            "3       10142  ...  FAKE\n",
            "4         875  ...  REAL\n",
            "\n",
            "[5 rows x 4 columns]\n"
          ],
          "name": "stdout"
        }
      ]
    },
    {
      "cell_type": "markdown",
      "metadata": {
        "id": "hSxntEAzEVhm"
      },
      "source": [
        "Portanto, como mencionado acima, Passive Aggressive Classifier é um algoritmo de aprendizagem online onde você treina um sistema de forma incremental, alimentando-o com instâncias sequencialmente, individualmente ou em pequenos grupos chamados minilotes.\n",
        "\n",
        "No aprendizado online, um modelo de aprendizado de máquina é treinado e implantado na produção de uma maneira que continua a aprender conforme chegam novos conjuntos de dados. Portanto, podemos dizer que um algoritmo como o Passive Aggressive Classifier é melhor para sistemas que recebem dados em um fluxo contínuo."
      ]
    },
    {
      "cell_type": "code",
      "metadata": {
        "colab": {
          "base_uri": "https://localhost:8080/"
        },
        "id": "I4reu-fcDCgP",
        "outputId": "a3e0909d-f062-4887-db2f-bf7e11dcd87e"
      },
      "source": [
        "#obtendo os valores de destino do conjunto de dados\n",
        "\n",
        "labels = data.label\n",
        "print(labels.head())\n",
        "\n",
        "target = data.label.value_counts()\n",
        "print(target)\n",
        "\n"
      ],
      "execution_count": null,
      "outputs": [
        {
          "output_type": "stream",
          "text": [
            "0    FAKE\n",
            "1    FAKE\n",
            "2    REAL\n",
            "3    FAKE\n",
            "4    REAL\n",
            "Name: label, dtype: object\n",
            "REAL    3171\n",
            "FAKE    3164\n",
            "Name: label, dtype: int64\n"
          ],
          "name": "stdout"
        }
      ]
    },
    {
      "cell_type": "code",
      "metadata": {
        "colab": {
          "base_uri": "https://localhost:8080/",
          "height": 357
        },
        "id": "5dxfTB7WGl6Y",
        "outputId": "a70927a9-243f-444a-81c2-67b62caa2d5f"
      },
      "source": [
        "# Verificando a distribuição dos dados\n",
        "\n",
        "sns.countplot(data.label)\n",
        "plt.title(\"Distribution of Real and Fake News\")\n",
        "plt.show()"
      ],
      "execution_count": null,
      "outputs": [
        {
          "output_type": "stream",
          "text": [
            "/usr/local/lib/python3.7/dist-packages/seaborn/_decorators.py:43: FutureWarning: Pass the following variable as a keyword arg: x. From version 0.12, the only valid positional argument will be `data`, and passing other arguments without an explicit keyword will result in an error or misinterpretation.\n",
            "  FutureWarning\n"
          ],
          "name": "stderr"
        },
        {
          "output_type": "display_data",
          "data": {
            "image/png": "[encoded data removed]",
            "text/plain": [
              "<Figure size 432x288 with 1 Axes>"
            ]
          },
          "metadata": {}
        }
      ]
    },
    {
      "cell_type": "markdown",
      "metadata": {
        "id": "btk63_duFDQ1"
      },
      "source": [
        "Como você pode ver que o conjunto de dados é igualmente distribuído com notícias reais e falsas, vamos dividir os dados em conjuntos de treinamento e teste:"
      ]
    },
    {
      "cell_type": "code",
      "metadata": {
        "id": "3ZZAZFBXDa_S"
      },
      "source": [
        "# Dividindo o conjunto de Dados\n",
        "from sklearn.model_selection import train_test_split\n",
        "xtrain, xtest, ytrain, ytest = train_test_split(data['text'], \n",
        "                                                labels, test_size=0.2, \n",
        "                                                random_state=7)"
      ],
      "execution_count": null,
      "outputs": []
    },
    {
      "cell_type": "markdown",
      "metadata": {
        "id": "NMWPZAeiGDsZ"
      },
      "source": [
        "Agora vamos treinar o modelo de detecção de notícias falsas usando o algoritmo Passivo Agressivo e verificar a precisão do modelo:"
      ]
    },
    {
      "cell_type": "code",
      "metadata": {
        "colab": {
          "base_uri": "https://localhost:8080/"
        },
        "id": "Jc-MI6LDDCqt",
        "outputId": "5eee38c6-4fdb-4490-aaae-7a5ef20594e0"
      },
      "source": [
        "from sklearn.linear_model import PassiveAggressiveClassifier\n",
        "pac = PassiveAggressiveClassifier(max_iter=50)\n",
        "pac.fit(train, ytrain)\n",
        "\n",
        "ypred = pac.predict(test)\n",
        "\n",
        "from sklearn.metrics import accuracy_score, confusion_matrix\n",
        "accuracy = accuracy_score(ytest, ypred)\n",
        "print(f'Accuracy Score of Passive Aggresive Scassifier: {round(accuracy*100,2)}%')"
      ],
      "execution_count": null,
      "outputs": [
        {
          "output_type": "stream",
          "text": [
            "Accuracy Score of Passive Aggresive Scassifier: 92.9%\n"
          ],
          "name": "stdout"
        }
      ]
    },
    {
      "cell_type": "markdown",
      "metadata": {
        "id": "J2fRmcCAFgJH"
      },
      "source": [
        "Como estamos trabalhando em um conjunto de dados que contém dados textuais, é necessário remover as palavras de interrupção antes de treinar o modelo:"
      ]
    },
    {
      "cell_type": "code",
      "metadata": {
        "id": "T82h3chRDCjv"
      },
      "source": [
        "\n",
        "from sklearn.feature_extraction.text import TfidfVectorizer\n",
        "tfidf = TfidfVectorizer(stop_words='english', max_df=0.7)\n",
        "train = tfidf.fit_transform(xtrain)\n",
        "test = tfidf.transform(xtest)"
      ],
      "execution_count": null,
      "outputs": []
    },
    {
      "cell_type": "code",
      "metadata": {
        "colab": {
          "base_uri": "https://localhost:8080/"
        },
        "id": "iAFN1RBRDCut",
        "outputId": "d069805b-7db4-4bdc-c6e1-3f2cf9661b02"
      },
      "source": [
        "print(confusion_matrix(ytest, ypred, labels=[\"FAKE\", \"REAL\"]))"
      ],
      "execution_count": null,
      "outputs": [
        {
          "output_type": "stream",
          "text": [
            "[[589  49]\n",
            " [ 41 588]]\n"
          ],
          "name": "stdout"
        }
      ]
    },
    {
      "cell_type": "markdown",
      "metadata": {
        "id": "3cNjyTVFEtay"
      },
      "source": [
        "classificador Passivo Agressivo no aprendizado de máquina. Simplificando, ele permanece passivo para previsões corretas e responde agressivamente às previsões incorretas."
      ]
    },
    {
      "cell_type": "markdown",
      "metadata": {
        "id": "Klesq-A6NQhF"
      },
      "source": [
        "## Conclusão:\n",
        "\n",
        "se você deseja trabalhar com big data, este é um classificador muito importante e eu o encorajo a prosseguir e tentar construir um projeto usando este classificador e usar dados ao vivo de um site de mídia social como o Twitter como entrada. Haverá uma grande quantidade de dados chegando a cada segundo e este classificador será capaz de lidar com dados desse tamanho."
      ]
    },
    {
      "cell_type": "markdown",
      "metadata": {
        "id": "AJ_XbGDaHDzz"
      },
      "source": [
        "## Fim"
      ]
    }
  ]
}